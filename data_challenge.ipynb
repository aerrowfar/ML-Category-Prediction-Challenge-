{
  "cells": [
    {
      "cell_type": "code",
      "execution_count": null,
      "metadata": {
        "id": "4nVZPOE8NlZr"
      },
      "outputs": [],
      "source": [
        "!pip3 install ktrain\n"
      ]
    },
    {
      "cell_type": "code",
      "execution_count": 2,
      "metadata": {
        "id": "EN3QAho1OTs5"
      },
      "outputs": [],
      "source": [
        "import pandas as pd\n",
        "pd.set_option('display.max_columns', 7)\n",
        "import tensorflow as tf"
      ]
    },
    {
      "cell_type": "markdown",
      "metadata": {
        "id": "Y-yqivU-GwNJ"
      },
      "source": [
        "# Importing Data"
      ]
    },
    {
      "cell_type": "code",
      "execution_count": 3,
      "metadata": {
        "colab": {
          "base_uri": "https://localhost:8080/",
          "height": 0
        },
        "id": "qy0w9ev0OVyz",
        "outputId": "de228134-0f9c-422c-92c0-b11001df6c32"
      },
      "outputs": [
        {
          "name": "stderr",
          "output_type": "stream",
          "text": [
            "/usr/local/lib/python3.7/dist-packages/IPython/core/interactiveshell.py:2718: DtypeWarning: Columns (2) have mixed types.Specify dtype option on import or set low_memory=False.\n",
            "  interactivity=interactivity, compiler=compiler, result=result)\n"
          ]
        },
        {
          "name": "stdout",
          "output_type": "stream",
          "text": [
            "<class 'pandas.core.frame.DataFrame'>\n",
            "Int64Index: 323125 entries, 0 to 323749\n",
            "Data columns (total 6 columns):\n",
            " #   Column         Non-Null Count   Dtype \n",
            "---  ------         --------------   ----- \n",
            " 0   name           323121 non-null  object\n",
            " 1   goal           323125 non-null  object\n",
            " 2   sub_category   323125 non-null  object\n",
            " 3   main_category  323125 non-null  object\n",
            " 4   launched       323125 non-null  object\n",
            " 5   deadline       323125 non-null  object\n",
            "dtypes: object(6)\n",
            "memory usage: 17.3+ MB\n",
            "None\n",
            "                            name    goal    sub_category main_category  \\\n",
            "count                     323121  323125          323125        323125   \n",
            "unique                    321009    9070             165            15   \n",
            "top     New EP/Music Development    5000  Product Design  Film & Video   \n",
            "freq                          41   20649           17477         57665   \n",
            "\n",
            "                   launched             deadline  \n",
            "count                323125               323125  \n",
            "unique               322636               294799  \n",
            "top     1970-01-01 01:00:00  2012-01-01 05:59:00  \n",
            "freq                      7                   47  \n"
          ]
        }
      ],
      "source": [
        "#import the data and get a sense of whats going on.\n",
        "data = pd.read_csv('/content/drive/MyDrive/Colab Notebooks/data_challenge.csv', index_col=0)\n",
        "print(data.info())\n",
        "print(data.describe())"
      ]
    },
    {
      "cell_type": "code",
      "execution_count": 4,
      "metadata": {
        "id": "6JsuG2V-lDcV"
      },
      "outputs": [],
      "source": [
        "#keep an original copy on hand for comparison.\n",
        "data_original = data"
      ]
    },
    {
      "cell_type": "markdown",
      "metadata": {
        "id": "BPI_v1Q7G3ex"
      },
      "source": [
        "# Data Cleaning\n"
      ]
    },
    {
      "cell_type": "markdown",
      "metadata": {
        "id": "vF9R_NwOj3oF"
      },
      "source": [
        "**Data Cleaning:**\n",
        "Ensure all columns are in right format, no nulls or missing data, as well as no data out of valid range.\n",
        "\n"
      ]
    },
    {
      "cell_type": "code",
      "execution_count": 5,
      "metadata": {
        "colab": {
          "base_uri": "https://localhost:8080/",
          "height": 0
        },
        "id": "t0Y7QxgoQEZA",
        "outputId": "75351281-c33e-4b21-8953-e8de8d3080e5"
      },
      "outputs": [
        {
          "name": "stdout",
          "output_type": "stream",
          "text": [
            "4\n",
            "0\n"
          ]
        }
      ],
      "source": [
        "#Drop any rows with null entries.\n",
        "print(data.isnull().sum().sum())\n",
        "data= data.dropna()\n",
        "print(data.isnull().sum().sum())"
      ]
    },
    {
      "cell_type": "code",
      "execution_count": 6,
      "metadata": {
        "colab": {
          "base_uri": "https://localhost:8080/",
          "height": 0
        },
        "id": "15pWH2IfRUx2",
        "outputId": "dc279bd5-a0d9-4c72-e086-2092cb582463"
      },
      "outputs": [
        {
          "name": "stderr",
          "output_type": "stream",
          "text": [
            "/usr/local/lib/python3.7/dist-packages/ipykernel_launcher.py:2: SettingWithCopyWarning: \n",
            "A value is trying to be set on a copy of a slice from a DataFrame.\n",
            "Try using .loc[row_indexer,col_indexer] = value instead\n",
            "\n",
            "See the caveats in the documentation: https://pandas.pydata.org/pandas-docs/stable/user_guide/indexing.html#returning-a-view-versus-a-copy\n",
            "  \n",
            "/usr/local/lib/python3.7/dist-packages/ipykernel_launcher.py:3: SettingWithCopyWarning: \n",
            "A value is trying to be set on a copy of a slice from a DataFrame.\n",
            "Try using .loc[row_indexer,col_indexer] = value instead\n",
            "\n",
            "See the caveats in the documentation: https://pandas.pydata.org/pandas-docs/stable/user_guide/indexing.html#returning-a-view-versus-a-copy\n",
            "  This is separate from the ipykernel package so we can avoid doing imports until\n"
          ]
        }
      ],
      "source": [
        "#Cast date columns as datetime objects.\n",
        "data['launched']= pd.to_datetime(data['launched'],infer_datetime_format=True, errors='coerce')\n",
        "data['deadline']= pd.to_datetime(data['deadline'],infer_datetime_format=True, errors='coerce')\n"
      ]
    },
    {
      "cell_type": "code",
      "execution_count": 7,
      "metadata": {
        "colab": {
          "base_uri": "https://localhost:8080/",
          "height": 0
        },
        "id": "K7_JQdollv8H",
        "outputId": "1e4b23f9-6816-4732-fe85-caca9bf1b887"
      },
      "outputs": [
        {
          "name": "stdout",
          "output_type": "stream",
          "text": [
            "12\n"
          ]
        }
      ],
      "source": [
        "#New null values would form for all invalid datetime formats with errors coerced above. \n",
        "print(data.isnull().sum().sum())"
      ]
    },
    {
      "cell_type": "code",
      "execution_count": 8,
      "metadata": {
        "colab": {
          "base_uri": "https://localhost:8080/",
          "height": 0
        },
        "id": "2sz6_zuzlvyz",
        "outputId": "8349fed5-a2ae-4c07-a3eb-58024db1f101"
      },
      "outputs": [
        {
          "name": "stdout",
          "output_type": "stream",
          "text": [
            "                                     name                 goal  \\\n",
            "64484             CD: Heartsong Harmonics  2015-11-03 00:59:00   \n",
            "85619                  Everyday Beautiful  2015-03-27 01:00:00   \n",
            "98614               Hana Zara's new album  2015-03-03 02:04:57   \n",
            "123506          Celebrating Joni Mitchell  2015-10-11 00:47:47   \n",
            "159427                        Legal Highs  2014-11-05 03:00:57   \n",
            "163067               Puppy Training Steps  2015-04-24 22:07:03   \n",
            "177636  Adventure to Peru's Sacred Valley  2015-03-21 21:13:23   \n",
            "\n",
            "                               sub_category main_category   launched deadline  \n",
            "64484    Marc & Mary sing together at last!         Music        NaT      NaT  \n",
            "85619       a day in the life of a champion  Film & Video 2000-01-01      NaT  \n",
            "98614                      The North (2015)         Music        NaT      NaT  \n",
            "123506       Songs by & about her + Stories         Music        NaT      NaT  \n",
            "159427                   The Sobering Truth  Film & Video        NaT      NaT  \n",
            "163067                      Right and Wrong  Film & Video        NaT      NaT  \n",
            "177636                Recording Soundtracks         Music 2200-01-01      NaT  \n"
          ]
        }
      ],
      "source": [
        "#see all the invalid datetimes that were coerced.\n",
        "print(data[data.isna().any(axis=1)])"
      ]
    },
    {
      "cell_type": "code",
      "execution_count": 9,
      "metadata": {
        "colab": {
          "base_uri": "https://localhost:8080/",
          "height": 0
        },
        "id": "28QHr74Dlvom",
        "outputId": "7f286742-f162-47ae-bb3d-6499415310f3"
      },
      "outputs": [
        {
          "name": "stdout",
          "output_type": "stream",
          "text": [
            "                             name                 goal  \\\n",
            "64484     CD: Heartsong Harmonics  2015-11-03 00:59:00   \n",
            "85619          Everyday Beautiful  2015-03-27 01:00:00   \n",
            "98614       Hana Zara's new album  2015-03-03 02:04:57   \n",
            "123506  Celebrating Joni Mitchell  2015-10-11 00:47:47   \n",
            "\n",
            "                               sub_category main_category launched deadline  \n",
            "64484    Marc & Mary sing together at last!         Music     7085      USD  \n",
            "85619       a day in the life of a champion  Film & Video     2000      USD  \n",
            "98614                      The North (2015)         Music     3000      USD  \n",
            "123506       Songs by & about her + Stories         Music     5000      CAD  \n"
          ]
        }
      ],
      "source": [
        "#Compare with original to make sure. We can see here that there was numbers and currency for date values.\n",
        "print(data_original.loc[[64484,85619,98614,123506]])"
      ]
    },
    {
      "cell_type": "code",
      "execution_count": 10,
      "metadata": {
        "id": "NAR1Huiflvem"
      },
      "outputs": [],
      "source": [
        "#drop the invalid rows with null values from datetime conversion.\n",
        "data= data.dropna()\n"
      ]
    },
    {
      "cell_type": "code",
      "execution_count": 11,
      "metadata": {
        "id": "MK1O14t8lvS2"
      },
      "outputs": [],
      "source": [
        "#cast goals column as ints. Don't coerce errors to see if anything goes wrong.\n",
        "#Without specifying a downcast, this will cast as float instead of int but at this point, I think thats Ok.\n",
        "data['goal']= pd.to_numeric(data['goal'])"
      ]
    },
    {
      "cell_type": "code",
      "execution_count": 12,
      "metadata": {
        "id": "JzJLiaVDpcLd"
      },
      "outputs": [],
      "source": [
        "#cast the rest of the columns as strings.\n",
        "for name in ['name','sub_category','main_category']:\n",
        "  data[name] = data[name].astype(str)"
      ]
    },
    {
      "cell_type": "code",
      "execution_count": 14,
      "metadata": {
        "id": "8svhO4QipcCV"
      },
      "outputs": [],
      "source": [
        "#Only keep dates with launch after April 28,2009 since Kickstarter was founded on that day. \n",
        "#Wouldnt make sense to have a project on the platform before it was founded. \n",
        "#Only keep launch dates before today's date. Something cant be launching in the future."
      ]
    },
    {
      "cell_type": "code",
      "execution_count": 13,
      "metadata": {
        "colab": {
          "base_uri": "https://localhost:8080/",
          "height": 0
        },
        "id": "9dWbonI7pb__",
        "outputId": "6f5178be-5196-4248-e11d-9c29280da29c"
      },
      "outputs": [
        {
          "name": "stdout",
          "output_type": "stream",
          "text": [
            "<class 'pandas.core.frame.DataFrame'>\n",
            "Int64Index: 323102 entries, 0 to 323749\n",
            "Data columns (total 6 columns):\n",
            " #   Column         Non-Null Count   Dtype         \n",
            "---  ------         --------------   -----         \n",
            " 0   name           323102 non-null  object        \n",
            " 1   goal           323102 non-null  float64       \n",
            " 2   sub_category   323102 non-null  object        \n",
            " 3   main_category  323102 non-null  object        \n",
            " 4   launched       323102 non-null  datetime64[ns]\n",
            " 5   deadline       323102 non-null  datetime64[ns]\n",
            "dtypes: datetime64[ns](2), float64(1), object(3)\n",
            "memory usage: 17.3+ MB\n",
            "None\n"
          ]
        }
      ],
      "source": [
        "mask = (data['launched'] > '2009-04-28') & (data['launched']<'2021-07-31')\n",
        "data = data.loc[mask]\n",
        "print(data.info())"
      ]
    },
    {
      "cell_type": "code",
      "execution_count": 14,
      "metadata": {
        "colab": {
          "base_uri": "https://localhost:8080/",
          "height": 0
        },
        "id": "q4Qv3UpYpb6X",
        "outputId": "65a457a1-ebae-48bc-98be-cc200e02f9e3"
      },
      "outputs": [
        {
          "name": "stdout",
          "output_type": "stream",
          "text": [
            "<class 'pandas.core.frame.DataFrame'>\n",
            "Int64Index: 323102 entries, 0 to 323749\n",
            "Data columns (total 6 columns):\n",
            " #   Column         Non-Null Count   Dtype         \n",
            "---  ------         --------------   -----         \n",
            " 0   name           323102 non-null  object        \n",
            " 1   goal           323102 non-null  float64       \n",
            " 2   sub_category   323102 non-null  object        \n",
            " 3   main_category  323102 non-null  object        \n",
            " 4   launched       323102 non-null  datetime64[ns]\n",
            " 5   deadline       323102 non-null  datetime64[ns]\n",
            "dtypes: datetime64[ns](2), float64(1), object(3)\n",
            "memory usage: 17.3+ MB\n",
            "None\n"
          ]
        }
      ],
      "source": [
        "#Only keep positive goal values, a negative goal wouldnt make sense. \n",
        "data = data.query('goal >= 0')\n",
        "print(data.info())"
      ]
    },
    {
      "cell_type": "markdown",
      "metadata": {
        "id": "qz7XDakMHDea"
      },
      "source": [
        "# Preprocessing\n"
      ]
    },
    {
      "cell_type": "markdown",
      "metadata": {
        "id": "QtbexTCjvwOr"
      },
      "source": [
        "**Preprocessing for ML:**\n",
        "Create necessary abstractions, double check data types. "
      ]
    },
    {
      "cell_type": "code",
      "execution_count": 18,
      "metadata": {
        "id": "AAhewe8gvu6P"
      },
      "outputs": [],
      "source": [
        "#Dates launched and deadline as it stands seem conceptually useless. \n",
        "#The campaign length we can infer from the difference between the two might be useful.\n",
        "#Coneptually, number of days in the campaign seems like a good time unit."
      ]
    },
    {
      "cell_type": "code",
      "execution_count": 15,
      "metadata": {
        "colab": {
          "base_uri": "https://localhost:8080/",
          "height": 0
        },
        "id": "PX4q62psvus6",
        "outputId": "45d7d3df-e974-4c29-832c-a7a63ca7b32e"
      },
      "outputs": [
        {
          "name": "stdout",
          "output_type": "stream",
          "text": [
            "<class 'pandas.core.frame.DataFrame'>\n",
            "Int64Index: 323102 entries, 0 to 323749\n",
            "Data columns (total 7 columns):\n",
            " #   Column           Non-Null Count   Dtype         \n",
            "---  ------           --------------   -----         \n",
            " 0   name             323102 non-null  object        \n",
            " 1   goal             323102 non-null  float64       \n",
            " 2   sub_category     323102 non-null  object        \n",
            " 3   main_category    323102 non-null  object        \n",
            " 4   launched         323102 non-null  datetime64[ns]\n",
            " 5   deadline         323102 non-null  datetime64[ns]\n",
            " 6   campaign_length  323102 non-null  int64         \n",
            "dtypes: datetime64[ns](2), float64(1), int64(1), object(3)\n",
            "memory usage: 19.7+ MB\n",
            "None\n"
          ]
        }
      ],
      "source": [
        "data['campaign_length']=data['deadline']-data['launched']\n",
        "data['campaign_length'] = data['campaign_length'].dt.days\n",
        "print(data.info())"
      ]
    },
    {
      "cell_type": "markdown",
      "metadata": {
        "id": "zzW9E37kYYoa"
      },
      "source": [
        "**Training NLP on Names:**"
      ]
    },
    {
      "cell_type": "markdown",
      "metadata": {
        "id": "kw7kTSfdZWrE"
      },
      "source": [
        "The goal of the challenge is to classify each project in its right main_category. My initial thought here was to crate a keywords abstraction of the 'name' values but since we have labeled data, we can just train a NLP engine on our specific dataset. Thus we have a \"vote\" for the main_category from just the name column which then acts like a normal feature along with the rest in the final model.\n"
      ]
    },
    {
      "cell_type": "code",
      "execution_count": 16,
      "metadata": {
        "id": "xVLKHuA0wMNu"
      },
      "outputs": [],
      "source": [
        "#get x as the names, and y as the main_category.\n",
        "x = data.iloc[:,0].values\n",
        "y = data.iloc[:,3].values"
      ]
    },
    {
      "cell_type": "code",
      "execution_count": 17,
      "metadata": {
        "id": "VX9oOkmzwZX9"
      },
      "outputs": [],
      "source": [
        "#create train and test split \n",
        "#random states are fine here because chronological order does not matter.\n",
        "from sklearn.model_selection import train_test_split\n",
        "X_train, X_test, y_train, y_test = train_test_split(x, y, test_size=0.2, random_state=50)"
      ]
    },
    {
      "cell_type": "code",
      "execution_count": 18,
      "metadata": {
        "colab": {
          "base_uri": "https://localhost:8080/",
          "height": 0
        },
        "id": "tQXLyJAFbkq_",
        "outputId": "8e688113-2e35-412b-f566-547e0fe9e040"
      },
      "outputs": [
        {
          "name": "stdout",
          "output_type": "stream",
          "text": [
            "['Art', 'Comics', 'Crafts', 'Dance', 'Design', 'Fashion', 'Film & Video', 'Food', 'Games', 'Journalism', 'Music', 'Photography', 'Publishing', 'Technology', 'Theater']\n"
          ]
        }
      ],
      "source": [
        "categories = sorted(data['main_category'].unique())\n",
        "print(categories)"
      ]
    },
    {
      "cell_type": "code",
      "execution_count": 19,
      "metadata": {
        "colab": {
          "base_uri": "https://localhost:8080/",
          "height": 0
        },
        "id": "aW-JZrQ_mE0h",
        "outputId": "177fb7af-165a-49bf-d352-d7ad78b051cc"
      },
      "outputs": [
        {
          "data": {
            "text/plain": [
              "96"
            ]
          },
          "execution_count": 19,
          "metadata": {
            "tags": []
          },
          "output_type": "execute_result"
        }
      ],
      "source": [
        "#Maximum string length in names column will be used for training to avoid any unnecessary padding by BERT.\n",
        "data.name.str.len().max()"
      ]
    },
    {
      "cell_type": "markdown",
      "metadata": {
        "id": "nF2RSOyzMBR1"
      },
      "source": [
        "I initially wanted to use BERT for comprehension since that's what is important here. But Distilbert preserves most of BERT's performance while being much lighter and smaller. KTrain libarary is just an easy wrapper."
      ]
    },
    {
      "cell_type": "code",
      "execution_count": 21,
      "metadata": {
        "colab": {
          "base_uri": "https://localhost:8080/",
          "height": 375,
          "referenced_widgets": [
            "0a4953ece8164f19a96663f43b4c3f65",
            "6c79bbdef68d4f2faf3a00a046d223a7",
            "d85dcb7a7aee4524a36944de75ded444",
            "6e4b3bf27b9d458aa254720eef1be66e",
            "600ec5bc8dd647cfa1740dc85d4dd3ab",
            "fc7245dd774548ef9c92b1eb07063399",
            "8b7b0e9d22d9459ca68dbfa643c48427",
            "0e1391ebab404dc4bd981904fbfabf9f"
          ]
        },
        "id": "ou4r0AcbwZhU",
        "outputId": "287d7e83-6cb0-4ced-80d2-e65a4680bfae"
      },
      "outputs": [
        {
          "name": "stderr",
          "output_type": "stream",
          "text": [
            "/usr/local/lib/python3.7/dist-packages/ktrain/text/preprocessor.py:420: UserWarning: The class_names argument is replacing the classes argument. Please update your code.\n",
            "  warnings.warn('The class_names argument is replacing the classes argument. Please update your code.')\n"
          ]
        },
        {
          "name": "stdout",
          "output_type": "stream",
          "text": [
            "preprocessing train...\n",
            "language: en\n",
            "train sequence lengths:\n",
            "\tmean : 6\n",
            "\t95percentile : 10\n",
            "\t99percentile : 12\n"
          ]
        },
        {
          "name": "stderr",
          "output_type": "stream",
          "text": [
            "/usr/local/lib/python3.7/dist-packages/ktrain/utils.py:600: UserWarning: class_names argument was ignored, as they were extracted from string labels in dataset\n",
            "  if self.get_classes(): warnings.warn('class_names argument was ignored, as they were extracted from string labels in dataset')\n"
          ]
        },
        {
          "data": {
            "text/html": [],
            "text/plain": [
              "<IPython.core.display.HTML object>"
            ]
          },
          "metadata": {
            "tags": []
          },
          "output_type": "display_data"
        },
        {
          "name": "stdout",
          "output_type": "stream",
          "text": [
            "Is Multi-Label? False\n",
            "preprocessing test...\n",
            "language: en\n",
            "test sequence lengths:\n",
            "\tmean : 6\n",
            "\t95percentile : 10\n",
            "\t99percentile : 12\n"
          ]
        },
        {
          "data": {
            "text/html": [],
            "text/plain": [
              "<IPython.core.display.HTML object>"
            ]
          },
          "metadata": {
            "tags": []
          },
          "output_type": "display_data"
        },
        {
          "data": {
            "application/vnd.jupyter.widget-view+json": {
              "model_id": "0a4953ece8164f19a96663f43b4c3f65",
              "version_major": 2,
              "version_minor": 0
            },
            "text/plain": [
              "HBox(children=(FloatProgress(value=0.0, description='Downloading', max=363423424.0, style=ProgressStyle(descri…"
            ]
          },
          "metadata": {
            "tags": []
          },
          "output_type": "display_data"
        },
        {
          "name": "stdout",
          "output_type": "stream",
          "text": [
            "\n"
          ]
        }
      ],
      "source": [
        "import ktrain\n",
        "from ktrain import text\n",
        "model_name = 'distilbert-base-uncased'\n",
        "#preprocessor for distillbert.\n",
        "#Use ~96 or 100 for maxlen.\n",
        "t = text.Transformer(model_name, maxlen=100, classes=categories)\n",
        "training=t.preprocess_train(X_train, y_train)\n",
        "validation= t.preprocess_test(X_test, y_test)\n",
        "model = t.get_classifier()\n"
      ]
    },
    {
      "cell_type": "code",
      "execution_count": 26,
      "metadata": {
        "colab": {
          "base_uri": "https://localhost:8080/",
          "height": 292
        },
        "id": "DFwKGe08lLhA",
        "outputId": "e233a1c8-aab8-473e-8205-bddd5c74f5bb"
      },
      "outputs": [
        {
          "name": "stdout",
          "output_type": "stream",
          "text": [
            "preprocessing train...\n",
            "language: en\n",
            "train sequence lengths:\n",
            "\tmean : 6\n",
            "\t95percentile : 10\n",
            "\t99percentile : 12\n"
          ]
        },
        {
          "name": "stderr",
          "output_type": "stream",
          "text": [
            "/usr/local/lib/python3.7/dist-packages/ktrain/utils.py:600: UserWarning: class_names argument was ignored, as they were extracted from string labels in dataset\n",
            "  if self.get_classes(): warnings.warn('class_names argument was ignored, as they were extracted from string labels in dataset')\n"
          ]
        },
        {
          "data": {
            "text/html": [],
            "text/plain": [
              "<IPython.core.display.HTML object>"
            ]
          },
          "metadata": {
            "tags": []
          },
          "output_type": "display_data"
        },
        {
          "name": "stdout",
          "output_type": "stream",
          "text": [
            "Is Multi-Label? False\n",
            "preprocessing test...\n",
            "language: en\n",
            "test sequence lengths:\n",
            "\tmean : 6\n",
            "\t95percentile : 11\n",
            "\t99percentile : 12\n"
          ]
        },
        {
          "data": {
            "text/html": [],
            "text/plain": [
              "<IPython.core.display.HTML object>"
            ]
          },
          "metadata": {
            "tags": []
          },
          "output_type": "display_data"
        }
      ],
      "source": [
        "#batch size of 12 seems good as a tradeoff between speed and memory.\n",
        "training=t.preprocess_train(X_train[:4000], y_train[:4000])#REDEFINING TEMPORARILY FOR LR_FIND\n",
        "validation= t.preprocess_test(X_test[:4000], y_test[:4000])#REDEFINING TEMPORARILY FOR LR_FIND\n",
        "learner = ktrain.get_learner(model, train_data=training, val_data= validation, batch_size=12)"
      ]
    },
    {
      "cell_type": "markdown",
      "metadata": {
        "id": "POO5P4C58e8h"
      },
      "source": [
        "Note: I redefine training and validation to be only on the first 4000 rows just to demonstrate the graph below quickly. I ran it on the whole data set beforehand to obtain ~5e-5."
      ]
    },
    {
      "cell_type": "code",
      "execution_count": 27,
      "metadata": {
        "colab": {
          "base_uri": "https://localhost:8080/",
          "height": 385
        },
        "id": "-STtxhzYwZrK",
        "outputId": "fe6ee2e0-55a4-4fd9-a461-02dd942b47f0"
      },
      "outputs": [
        {
          "name": "stdout",
          "output_type": "stream",
          "text": [
            "simulating training for different learning rates... this may take a few moments...\n",
            "333/333 [==============================] - 43s 127ms/step - loss: 953.2333 - accuracy: 0.1688\n",
            "\n",
            "\n",
            "done.\n",
            "Visually inspect loss plot and select learning rate associated with falling loss\n"
          ]
        },
        {
          "data": {
            "image/png": "[encoded data removed]",
            "text/plain": [
              "<Figure size 432x288 with 1 Axes>"
            ]
          },
          "metadata": {
            "needs_background": "light",
            "tags": []
          },
          "output_type": "display_data"
        }
      ],
      "source": [
        "#see the opimized learning rate.\n",
        "learner.lr_find(show_plot=True, max_epochs=1)"
      ]
    },
    {
      "cell_type": "code",
      "execution_count": 35,
      "metadata": {
        "colab": {
          "base_uri": "https://localhost:8080/",
          "height": 0
        },
        "id": "42sVWiSXe7Qx",
        "outputId": "bfeac2a2-4562-4a85-b01a-db2a197e9f82"
      },
      "outputs": [
        {
          "name": "stdout",
          "output_type": "stream",
          "text": [
            "\n",
            "\n",
            "begin training using onecycle policy with max lr of 5e-05...\n",
            "21541/21541 [==============================] - 3135s 143ms/step - loss: 1.1686 - accuracy: 0.6328 - val_loss: 1.0678 - val_accuracy: 0.6594\n"
          ]
        },
        {
          "data": {
            "text/plain": [
              "<tensorflow.python.keras.callbacks.History at 0x7f3b7fddb5d0>"
            ]
          },
          "execution_count": 35,
          "metadata": {
            "tags": []
          },
          "output_type": "execute_result"
        }
      ],
      "source": [
        "#using 1 epoch here because we don't want to wait too long, but otherwise we would use multiple.\n",
        "learner.fit_onecycle(5e-5,1)"
      ]
    },
    {
      "cell_type": "code",
      "execution_count": 37,
      "metadata": {
        "id": "Uf4gS2EopFE_"
      },
      "outputs": [],
      "source": [
        "#set the predictor object.\n",
        "predictor = ktrain.get_predictor(learner.model, preproc = t)\n",
        "predictor.save('/content/drive/MyDrive/Colab Notebooks/predictor')"
      ]
    },
    {
      "cell_type": "code",
      "execution_count": 39,
      "metadata": {
        "colab": {
          "base_uri": "https://localhost:8080/",
          "height": 0
        },
        "id": "9tN8dx7U1MBz",
        "outputId": "b6325ac5-d005-4c2d-9356-b090ff9c9144"
      },
      "outputs": [
        {
          "name": "stdout",
          "output_type": "stream",
          "text": [
            "----------\n",
            "id:45066 | loss:9.61 | true:Fashion | pred:Film & Video)\n",
            "\n",
            "----------\n",
            "id:42531 | loss:9.6 | true:Games | pred:Music)\n",
            "\n"
          ]
        }
      ],
      "source": [
        "#view the biggest two classification mismatches.\n",
        "learner.view_top_losses(n=2,preproc=t)"
      ]
    },
    {
      "cell_type": "code",
      "execution_count": 22,
      "metadata": {
        "id": "TbG1oPqF1GWF"
      },
      "outputs": [],
      "source": [
        "#Reloading the predictor here for convenience.\n",
        "import ktrain\n",
        "predictor_reload = ktrain.load_predictor('/content/drive/MyDrive/Colab Notebooks/predictor')"
      ]
    },
    {
      "cell_type": "code",
      "execution_count": 23,
      "metadata": {
        "colab": {
          "base_uri": "https://localhost:8080/",
          "height": 133,
          "referenced_widgets": [
            "52d4dd127e08482890fd827fdc7d2cd4",
            "5f509a6793974320ae4efc02e18e32d8",
            "0429e8e3b9aa43f8b74ec4cac9e71377",
            "498524325ace4c298f573a59745cb7fb",
            "7bb4503599644f7e9f1540e32f435032",
            "d0008fca975d443393cf0c60d77f0458",
            "5bd04ce44fb2481898b5074f105e785b",
            "cde88d3fae9f4027ae71b9f90a17dd56",
            "444e02e1e87a470ea333cdf9477c05dc",
            "176f85fec75340dc98c7c87ea71f5022",
            "85a68a5d86aa4febb4e4dc494b227e4f",
            "8890f9190453499aa3202052f5fa3906",
            "4d5cf75542524ee0a5baef91cdee337b",
            "5093462dda284a3183147e7564ff66ac",
            "fc034f83179d4da4a737837ee7327a2f",
            "8913e959235945d3920a41b4d6c534ac"
          ]
        },
        "id": "QkAZbwS01w5r",
        "outputId": "d48fddd7-a942-4a23-f205-cfbe197cc415"
      },
      "outputs": [
        {
          "data": {
            "application/vnd.jupyter.widget-view+json": {
              "model_id": "52d4dd127e08482890fd827fdc7d2cd4",
              "version_major": 2,
              "version_minor": 0
            },
            "text/plain": [
              "HBox(children=(FloatProgress(value=0.0, description='Downloading', max=231508.0, style=ProgressStyle(descripti…"
            ]
          },
          "metadata": {
            "tags": []
          },
          "output_type": "display_data"
        },
        {
          "name": "stdout",
          "output_type": "stream",
          "text": [
            "\n"
          ]
        },
        {
          "data": {
            "application/vnd.jupyter.widget-view+json": {
              "model_id": "444e02e1e87a470ea333cdf9477c05dc",
              "version_major": 2,
              "version_minor": 0
            },
            "text/plain": [
              "HBox(children=(FloatProgress(value=0.0, description='Downloading', max=466062.0, style=ProgressStyle(descripti…"
            ]
          },
          "metadata": {
            "tags": []
          },
          "output_type": "display_data"
        },
        {
          "name": "stdout",
          "output_type": "stream",
          "text": [
            "\n"
          ]
        },
        {
          "data": {
            "application/vnd.google.colaboratory.intrinsic+json": {
              "type": "string"
            },
            "text/plain": [
              "'Games'"
            ]
          },
          "execution_count": 23,
          "metadata": {
            "tags": []
          },
          "output_type": "execute_result"
        }
      ],
      "source": [
        "#Testing out on a random string.\n",
        "predictor_reload.predict('Super Smash Bros')\n"
      ]
    },
    {
      "cell_type": "markdown",
      "metadata": {
        "id": "OgRwLwm_Nx3c"
      },
      "source": [
        "Finally we're going to reduce the dataset to only 20,000 rows to speed things up, since this project is only for demonstration purposes. In production, I would use the whole set."
      ]
    },
    {
      "cell_type": "code",
      "execution_count": 61,
      "metadata": {
        "colab": {
          "base_uri": "https://localhost:8080/",
          "height": 0
        },
        "id": "eIlKvBVzD0dB",
        "outputId": "fbdeea30-eace-4bdf-d34f-30cdf31589b6"
      },
      "outputs": [
        {
          "name": "stdout",
          "output_type": "stream",
          "text": [
            "<class 'pandas.core.frame.DataFrame'>\n",
            "Int64Index: 20000 entries, 0 to 20037\n",
            "Data columns (total 8 columns):\n",
            " #   Column           Non-Null Count  Dtype         \n",
            "---  ------           --------------  -----         \n",
            " 0   project_name     20000 non-null  object        \n",
            " 1   goal             20000 non-null  float64       \n",
            " 2   sub_category     20000 non-null  object        \n",
            " 3   main_category    20000 non-null  object        \n",
            " 4   launched         20000 non-null  datetime64[ns]\n",
            " 5   deadline         20000 non-null  datetime64[ns]\n",
            " 6   campaign_length  20000 non-null  int64         \n",
            " 7   predicted_bert   4004 non-null   object        \n",
            "dtypes: datetime64[ns](2), float64(1), int64(1), object(4)\n",
            "memory usage: 1.4+ MB\n"
          ]
        }
      ],
      "source": [
        "data= data[:20000]\n",
        "data.info()"
      ]
    },
    {
      "cell_type": "code",
      "execution_count": null,
      "metadata": {
        "id": "PAKAw0sUpe2-"
      },
      "outputs": [],
      "source": [
        "#Create the NLP \"vote\" column.\n",
        "#important to rename the column since row.name is a native attribute, although I end up not using row.name.\n",
        "data.rename(columns={'name':'project_name'}, inplace=True)\n",
        "for index,row in data3.iterrows():\n",
        "  data.loc[index,'predicted_bert']=predictor_reload.predict(data3.loc[index,'project_name'])\n",
        "  print(index)\n"
      ]
    },
    {
      "cell_type": "code",
      "execution_count": 66,
      "metadata": {
        "colab": {
          "base_uri": "https://localhost:8080/",
          "height": 0
        },
        "id": "R89pLb-vqkxT",
        "outputId": "5f27af0d-1cfb-4bae-f077-9e61dcb7081c"
      },
      "outputs": [
        {
          "name": "stdout",
          "output_type": "stream",
          "text": [
            "<class 'pandas.core.frame.DataFrame'>\n",
            "Int64Index: 20000 entries, 0 to 20037\n",
            "Data columns (total 8 columns):\n",
            " #   Column           Non-Null Count  Dtype         \n",
            "---  ------           --------------  -----         \n",
            " 0   project_name     20000 non-null  object        \n",
            " 1   goal             20000 non-null  float64       \n",
            " 2   sub_category     20000 non-null  object        \n",
            " 3   main_category    20000 non-null  object        \n",
            " 4   launched         20000 non-null  datetime64[ns]\n",
            " 5   deadline         20000 non-null  datetime64[ns]\n",
            " 6   campaign_length  20000 non-null  int64         \n",
            " 7   predicted_bert   20000 non-null  object        \n",
            "dtypes: datetime64[ns](2), float64(1), int64(1), object(4)\n",
            "memory usage: 2.0+ MB\n",
            "None\n"
          ]
        }
      ],
      "source": [
        "data.to_csv('/content/drive/MyDrive/Colab Notebooks/data.csv')\n",
        "print(data.info())"
      ]
    },
    {
      "cell_type": "code",
      "execution_count": 65,
      "metadata": {
        "colab": {
          "base_uri": "https://localhost:8080/",
          "height": 0
        },
        "id": "Ykg1E5F8KWmX",
        "outputId": "51eeb649-d083-44b2-8480-abe80397b3cc"
      },
      "outputs": [
        {
          "name": "stdout",
          "output_type": "stream",
          "text": [
            "                                        project_name     goal    sub_category  \\\n",
            "0                    The Songs of Adelaide & Abullah   1000.0          Poetry   \n",
            "1                                     Where is Hank?  45000.0  Narrative Film   \n",
            "2  ToshiCapital Rekordz Needs Help to Complete Album   5000.0           Music   \n",
            "3  Community Film Project: The Art of Neighborhoo...  19500.0    Film & Video   \n",
            "4                               Monarch Espresso Bar  50000.0     Restaurants   \n",
            "\n",
            "   ...            deadline campaign_length predicted_bert  \n",
            "0  ... 2015-10-09 11:36:00              58          Music  \n",
            "1  ... 2013-02-26 00:20:50              45   Film & Video  \n",
            "2  ... 2012-04-16 04:24:11              30          Music  \n",
            "3  ... 2015-08-29 01:00:00              55   Film & Video  \n",
            "4  ... 2016-04-01 13:38:27              35           Food  \n",
            "\n",
            "[5 rows x 8 columns]\n",
            "                                            project_name      goal  \\\n",
            "20033                                illustrate to paint     800.0   \n",
            "20034  \"Magdalene\" - A short film about the first Easter   18000.0   \n",
            "20035                                    THE MIXTAPE DVD     500.0   \n",
            "20036      Planet Connections Presents: INFINITELY YOURS     800.0   \n",
            "20037  Guild of Hunters - When Zelda meets Monster Hu...  100000.0   \n",
            "\n",
            "       sub_category  ...            deadline campaign_length predicted_bert  \n",
            "20033  Illustration  ... 2015-01-05 07:40:15              20            Art  \n",
            "20034        Shorts  ... 2014-05-06 05:59:00              26   Film & Video  \n",
            "20035  Music Videos  ... 2016-03-07 00:13:01              10          Music  \n",
            "20036     Festivals  ... 2016-06-23 19:40:08              35          Music  \n",
            "20037   Video Games  ... 2014-12-05 16:04:20              30          Games  \n",
            "\n",
            "[5 rows x 8 columns]\n"
          ]
        }
      ],
      "source": [
        "print(data.head())\n",
        "print(data.tail())"
      ]
    },
    {
      "cell_type": "code",
      "execution_count": 56,
      "metadata": {
        "colab": {
          "base_uri": "https://localhost:8080/",
          "height": 0
        },
        "id": "peXOzp_EhLwz",
        "outputId": "281d2dae-12fd-44a4-d965-e7990797f77f"
      },
      "outputs": [
        {
          "name": "stdout",
          "output_type": "stream",
          "text": [
            "<class 'pandas.core.frame.DataFrame'>\n",
            "Int64Index: 20000 entries, 0 to 20037\n",
            "Data columns (total 8 columns):\n",
            " #   Column           Non-Null Count  Dtype  \n",
            "---  ------           --------------  -----  \n",
            " 0   project_name     20000 non-null  object \n",
            " 1   goal             20000 non-null  float64\n",
            " 2   sub_category     20000 non-null  object \n",
            " 3   main_category    20000 non-null  object \n",
            " 4   launched         20000 non-null  object \n",
            " 5   deadline         20000 non-null  object \n",
            " 6   campaign_length  20000 non-null  int64  \n",
            " 7   predicted_bert   20000 non-null  object \n",
            "dtypes: float64(1), int64(1), object(6)\n",
            "memory usage: 1.4+ MB\n",
            "None\n"
          ]
        }
      ],
      "source": [
        "#reload data with predictions here for convenience.\n",
        "data = pd.read_csv('/content/drive/MyDrive/Colab Notebooks/data.csv', index_col=0)\n",
        "print(data.info())"
      ]
    },
    {
      "cell_type": "markdown",
      "metadata": {
        "id": "vcm0JY49Oz4g"
      },
      "source": [
        "I've decided to use RandomForest for final learning. I will explain in ML section. But the important thing at this point is to have all values as numbers since the SciKit library for random forest doesnt accept non-numeric inputs."
      ]
    },
    {
      "cell_type": "code",
      "execution_count": 57,
      "metadata": {
        "colab": {
          "base_uri": "https://localhost:8080/",
          "height": 0
        },
        "id": "7XG99CaNmql0",
        "outputId": "6587e3aa-d619-4a96-d3dc-490478039634"
      },
      "outputs": [
        {
          "name": "stdout",
          "output_type": "stream",
          "text": [
            "   project_name     goal    sub_category  ...             deadline  \\\n",
            "0         17339   1000.0          Poetry  ...  2015-10-09 11:36:00   \n",
            "1         19036  45000.0  Narrative Film  ...  2013-02-26 00:20:50   \n",
            "2         18012   5000.0           Music  ...  2012-04-16 04:24:11   \n",
            "3          4074  19500.0    Film & Video  ...  2015-08-29 01:00:00   \n",
            "4         10696  50000.0     Restaurants  ...  2016-04-01 13:38:27   \n",
            "\n",
            "  campaign_length predicted_bert  \n",
            "0              58          Music  \n",
            "1              45   Film & Video  \n",
            "2              30          Music  \n",
            "3              55   Film & Video  \n",
            "4              35           Food  \n",
            "\n",
            "[5 rows x 8 columns]\n",
            "<class 'pandas.core.frame.DataFrame'>\n",
            "Int64Index: 20000 entries, 0 to 20037\n",
            "Data columns (total 8 columns):\n",
            " #   Column           Non-Null Count  Dtype  \n",
            "---  ------           --------------  -----  \n",
            " 0   project_name     20000 non-null  int64  \n",
            " 1   goal             20000 non-null  float64\n",
            " 2   sub_category     20000 non-null  object \n",
            " 3   main_category    20000 non-null  object \n",
            " 4   launched         20000 non-null  object \n",
            " 5   deadline         20000 non-null  object \n",
            " 6   campaign_length  20000 non-null  int64  \n",
            " 7   predicted_bert   20000 non-null  object \n",
            "dtypes: float64(1), int64(2), object(5)\n",
            "memory usage: 1.4+ MB\n",
            "None\n"
          ]
        }
      ],
      "source": [
        "#label encoder for the name's column\n",
        "#label encoder here is appropriate because there is no order to names, so we can just pseudo-hash it.\n",
        "from sklearn import preprocessing\n",
        "le = preprocessing.LabelEncoder()\n",
        "data['project_name']=le.fit_transform(data['project_name'])\n",
        "\n",
        "print(data.head())\n",
        "print(data.info())"
      ]
    },
    {
      "cell_type": "code",
      "execution_count": 63,
      "metadata": {
        "colab": {
          "base_uri": "https://localhost:8080/",
          "height": 0
        },
        "id": "f84cbMMapYaJ",
        "outputId": "5312cb14-edab-4032-ef55-3b587b2288f4"
      },
      "outputs": [
        {
          "name": "stdout",
          "output_type": "stream",
          "text": [
            "{0: 'Art', 1: 'Comics', 2: 'Crafts', 3: 'Dance', 4: 'Design', 5: 'Fashion', 6: 'Film & Video', 7: 'Food', 8: 'Games', 9: 'Journalism', 10: 'Music', 11: 'Photography', 12: 'Publishing', 13: 'Technology', 14: 'Theater'}\n",
            "0    10\n",
            "1     6\n",
            "2    10\n",
            "3     6\n",
            "4     7\n",
            "Name: predicted_bert, dtype: int8\n"
          ]
        }
      ],
      "source": [
        "#for the NLP vote, we can just cast as a category and relevant number.\n",
        "#could have also used pd.get_dummies or sklearn.DictVectorizer as well.\n",
        "data.predicted_bert = pd.Categorical(data.predicted_bert)\n",
        "data.predicted_bert.astype('category').cat.codes\n",
        "bert_dic = dict(enumerate(data['predicted_bert'].cat.categories))\n",
        "data['predicted_bert'] = data.predicted_bert.cat.codes\n",
        "print(bert_dic)\n",
        "print(data['predicted_bert'].head())"
      ]
    },
    {
      "cell_type": "code",
      "execution_count": 59,
      "metadata": {
        "id": "WG4gAaYzwrM5"
      },
      "outputs": [],
      "source": [
        "#for the dates, what made sense is to encode it manually. This is because order matters and something \n",
        "#like label encoder would not preserve that. \n",
        "\n",
        "def date2num(date_time):\n",
        "  data_time=date_time.strftime(\"%d-%m-%Y\")\n",
        "  d, m, y = data_time.split('-')\n",
        "  num = int(d)*10 + int(m)*100 + int(y)*1000 \n",
        "  return num\n",
        "\n",
        "#only keep dates without time component.\n",
        "data['launched'] = pd.to_datetime(data['launched']).dt.date\n",
        "data['deadline'] = pd.to_datetime(data['deadline']).dt.date\n",
        "\n",
        "data['launched'] = data['launched'].apply(lambda x: date2num(x))\n",
        "data['deadline'] = data['deadline'].apply(lambda x: date2num(x))"
      ]
    },
    {
      "cell_type": "markdown",
      "metadata": {
        "id": "YZQ7F6w_Z2uV"
      },
      "source": [
        "I initially used OneHotEncoder below for main_category as it would be a better choice theoretically. Unfrotunately it does not play nice with RandomForest.\n",
        "\n",
        "\n",
        "y = preprocessing.OneHotEncoder().fit_transform(x).toarray()\n",
        "print(y)"
      ]
    },
    {
      "cell_type": "code",
      "execution_count": 60,
      "metadata": {
        "colab": {
          "base_uri": "https://localhost:8080/",
          "height": 0
        },
        "id": "CAZqmtG620T0",
        "outputId": "036b3683-4d27-47cf-e88f-4087730f0da6"
      },
      "outputs": [
        {
          "name": "stdout",
          "output_type": "stream",
          "text": [
            "{0: 'Art', 1: 'Comics', 2: 'Crafts', 3: 'Dance', 4: 'Design', 5: 'Fashion', 6: 'Film & Video', 7: 'Food', 8: 'Games', 9: 'Journalism', 10: 'Music', 11: 'Photography', 12: 'Publishing', 13: 'Technology', 14: 'Theater'}\n",
            "<class 'pandas.core.frame.DataFrame'>\n",
            "Int64Index: 20000 entries, 0 to 20037\n",
            "Data columns (total 8 columns):\n",
            " #   Column           Non-Null Count  Dtype   \n",
            "---  ------           --------------  -----   \n",
            " 0   project_name     20000 non-null  int64   \n",
            " 1   goal             20000 non-null  float64 \n",
            " 2   sub_category     20000 non-null  object  \n",
            " 3   main_category    20000 non-null  int8    \n",
            " 4   launched         20000 non-null  int64   \n",
            " 5   deadline         20000 non-null  int64   \n",
            " 6   campaign_length  20000 non-null  int64   \n",
            " 7   predicted_bert   20000 non-null  category\n",
            "dtypes: category(1), float64(1), int64(4), int8(1), object(1)\n",
            "memory usage: 1.1+ MB\n",
            "None\n",
            "0    12\n",
            "1     6\n",
            "2    10\n",
            "3     6\n",
            "4     7\n",
            "Name: main_category, dtype: int8\n"
          ]
        }
      ],
      "source": [
        "#repeat cateogirizing numerically for target column. \n",
        "data.main_category = pd.Categorical(data.main_category)\n",
        "data.main_category.astype('category').cat.codes\n",
        "main_cats_dic = dict(enumerate(data['main_category'].cat.categories))\n",
        "print(main_cats_dic)\n",
        "data['main_category'] = data.main_category.cat.codes\n",
        "\n",
        "\n",
        "print(data.info())\n",
        "print(data['main_category'].head())"
      ]
    },
    {
      "cell_type": "markdown",
      "metadata": {
        "id": "E7e1tKj5HceM"
      },
      "source": [
        "# Machine Learning\n"
      ]
    },
    {
      "cell_type": "markdown",
      "metadata": {
        "id": "MEBquItwaQ6F"
      },
      "source": [
        "I chose to use RandomForest because:\n",
        "\n",
        "\n",
        "*   Prevent overfitting\n",
        "*   Non paremetric with no assumptions on features.\n",
        "\n",
        "But most importantly, it makes intuitive sense here. Otherwise kernel SVM, KNN, or a neural network could have worked just as well here.\n",
        "\n",
        "\n"
      ]
    },
    {
      "cell_type": "code",
      "execution_count": 66,
      "metadata": {
        "id": "7qH8PJ8I0ML2"
      },
      "outputs": [],
      "source": [
        "from sklearn.model_selection import train_test_split\n",
        "#ignoring sub_category here and target column.\n",
        "x = data.iloc[:,[0,1,4,5,6,7]].values\n",
        "#main_category column.\n",
        "y = data.iloc[:,3].values\n",
        "\n",
        "x_train, x_test, y_train, y_test = train_test_split(x, y, test_size=0.2, random_state=50)"
      ]
    },
    {
      "cell_type": "code",
      "execution_count": 67,
      "metadata": {
        "colab": {
          "base_uri": "https://localhost:8080/",
          "height": 0
        },
        "id": "Ce6cMYIB0QzK",
        "outputId": "caf905ba-cb91-49eb-bc6a-fccb56723c50"
      },
      "outputs": [
        {
          "name": "stdout",
          "output_type": "stream",
          "text": [
            "[[8.40200e+03 2.50000e+02 2.01228e+06 2.01237e+06 8.00000e+00 5.00000e+00]\n",
            " [5.96200e+03 6.75000e+02 2.01593e+06 2.01602e+06 5.00000e+01 8.00000e+00]\n",
            " [6.66800e+03 2.00000e+03 2.01341e+06 2.01332e+06 3.00000e+01 5.00000e+00]\n",
            " [1.19340e+04 7.25000e+03 2.01219e+06 2.01228e+06 3.00000e+01 8.00000e+00]\n",
            " [1.96060e+04 7.50000e+03 2.01521e+06 2.01530e+06 3.00000e+01 6.00000e+00]\n",
            " [5.93600e+03 7.50000e+04 2.01587e+06 2.01593e+06 2.70000e+01 6.00000e+00]\n",
            " [1.23930e+04 1.50000e+04 2.01248e+06 2.01268e+06 6.00000e+01 5.00000e+00]\n",
            " [1.28000e+02 7.50000e+03 2.01467e+06 2.01477e+06 3.00000e+01 6.00000e+00]\n",
            " [1.02020e+04 2.00000e+04 2.01363e+06 2.01377e+06 3.30000e+01 1.00000e+01]\n",
            " [6.96300e+03 3.50000e+03 2.01471e+06 2.01481e+06 3.00000e+01 0.00000e+00]]\n",
            "[ 5 12  5  6  6  0 10  6 10  4]\n"
          ]
        }
      ],
      "source": [
        "print(x_train[:10])\n",
        "print(y_train[:10])"
      ]
    },
    {
      "cell_type": "markdown",
      "metadata": {
        "id": "kMBvpzhzDhJC"
      },
      "source": [
        "Note: scaling/standardizing these numbers is not necessary for RandomForest. Otherwise for something like SVM approach, we would have to."
      ]
    },
    {
      "cell_type": "markdown",
      "metadata": {
        "id": "jICp3e4lFPXv"
      },
      "source": [
        "For Feature selection, we will use **recursive feature elimination (RFE)**. This removes the weakest feature every iteration and ranks them by importance. This elliminates dependencies and collinearity if any exists."
      ]
    },
    {
      "cell_type": "code",
      "execution_count": null,
      "metadata": {
        "id": "wyGTFX2_whlm"
      },
      "outputs": [],
      "source": [
        "#In order to pick best features, we will use Rerucsive feature elimination here.\n",
        "from sklearn.ensemble import RandomForestClassifier\n",
        "from sklearn.feature_selection import RFECV\n",
        "forest=RandomForestClassifier(verbose=1,random_state=3)\n",
        "\n",
        "#step=1 here is the number of features it drops at a time to compare performance.\n",
        "rfecv = RFECV(estimator=forest, step=1, scoring='accuracy')\n",
        "rfecv.fit(x_train, y_train)\n",
        "\n",
        "print(f\"Optimal number of features : {rfecv.n_features_}\")\n",
        "\n"
      ]
    },
    {
      "cell_type": "code",
      "execution_count": 71,
      "metadata": {
        "colab": {
          "base_uri": "https://localhost:8080/",
          "height": 297
        },
        "id": "7wTPyW9RKk8d",
        "outputId": "ac5ee61f-30b4-4706-a731-32a022aed432"
      },
      "outputs": [
        {
          "data": {
            "image/png": "[encoded data removed]",
            "text/plain": [
              "<Figure size 432x288 with 1 Axes>"
            ]
          },
          "metadata": {
            "needs_background": "light",
            "tags": []
          },
          "output_type": "display_data"
        }
      ],
      "source": [
        "# Ploting the number of features vs cross-validation scores\n",
        "import matplotlib.pyplot as plt\n",
        "\n",
        "plt.figure()\n",
        "plt.xlabel(\"Number of features selected\")\n",
        "plt.ylabel(\"Cross validation score (# of correct classifications)\")\n",
        "plt.plot(range(1, len(rfecv.grid_scores_) + 1), rfecv.grid_scores_)\n",
        "plt.show()"
      ]
    },
    {
      "cell_type": "code",
      "execution_count": 72,
      "metadata": {
        "colab": {
          "base_uri": "https://localhost:8080/",
          "height": 0
        },
        "id": "FKFa5vSMKk-4",
        "outputId": "afad3ed8-1ca2-4698-e6de-6faf72faede9"
      },
      "outputs": [
        {
          "data": {
            "text/plain": [
              "5"
            ]
          },
          "execution_count": 72,
          "metadata": {
            "tags": []
          },
          "output_type": "execute_result"
        }
      ],
      "source": [
        "#optimal number of features to use.\n",
        "rfecv.n_features_"
      ]
    },
    {
      "cell_type": "code",
      "execution_count": 73,
      "metadata": {
        "colab": {
          "base_uri": "https://localhost:8080/",
          "height": 0
        },
        "id": "QRdwGTVJKlBW",
        "outputId": "22862f43-7b13-4b16-f427-9dc18f783d20"
      },
      "outputs": [
        {
          "data": {
            "text/plain": [
              "array([ True,  True,  True,  True, False,  True])"
            ]
          },
          "execution_count": 73,
          "metadata": {
            "tags": []
          },
          "output_type": "execute_result"
        }
      ],
      "source": [
        "#which features it was using at peak optimality.\n",
        "rfecv.support_ "
      ]
    },
    {
      "cell_type": "code",
      "execution_count": 75,
      "metadata": {
        "colab": {
          "base_uri": "https://localhost:8080/",
          "height": 0
        },
        "id": "g6pxbsXu4gGN",
        "outputId": "72c0d55b-8e01-47b9-91d8-2854f05f2258"
      },
      "outputs": [
        {
          "data": {
            "text/plain": [
              "['project_name',\n",
              " 'goal',\n",
              " 'launched',\n",
              " 'deadline',\n",
              " 'campaign_length',\n",
              " 'predicted_bert']"
            ]
          },
          "execution_count": 75,
          "metadata": {
            "tags": []
          },
          "output_type": "execute_result"
        }
      ],
      "source": [
        "#seeing a list of what features were in the x column at the start.\n",
        "b= list(data.columns)\n",
        "indexes=[0,1,4,5,6,7]\n",
        "[b[x] for x in indexes]"
      ]
    },
    {
      "cell_type": "markdown",
      "metadata": {
        "id": "dm_6ZJ-w6iLn"
      },
      "source": [
        "so it selected everything but campaign length at most effective. That means the list of features in use were: ['project_name',\n",
        " 'goal',\n",
        " 'launched',\n",
        " 'deadline',\n",
        " 'predicted_bert']"
      ]
    },
    {
      "cell_type": "code",
      "execution_count": 76,
      "metadata": {
        "colab": {
          "base_uri": "https://localhost:8080/",
          "height": 0
        },
        "id": "phLMDB376cJv",
        "outputId": "53968aa4-c671-45be-b5cf-ddaef62a4316"
      },
      "outputs": [
        {
          "data": {
            "text/plain": [
              "array([0.15695161, 0.12862427, 0.14242256, 0.14300298, 0.42899858])"
            ]
          },
          "execution_count": 76,
          "metadata": {
            "tags": []
          },
          "output_type": "execute_result"
        }
      ],
      "source": [
        "#get a numerical feature importance of the features that WERE USED. So not inclduing campaign length.\n",
        "rfecv.estimator_.feature_importances_ "
      ]
    },
    {
      "cell_type": "markdown",
      "metadata": {
        "id": "jMBjb8wQ6wBG"
      },
      "source": [
        "we can see here that the lowest contribution was from goal, the highest was predictably from 'predicted_bert'."
      ]
    },
    {
      "cell_type": "code",
      "execution_count": 129,
      "metadata": {
        "colab": {
          "base_uri": "https://localhost:8080/",
          "height": 0
        },
        "id": "rK72kOledXgc",
        "outputId": "44b213c6-d5f3-4115-fa7f-8fd4b43fda32"
      },
      "outputs": [
        {
          "name": "stdout",
          "output_type": "stream",
          "text": [
            "[[8.40200e+03 2.50000e+02 2.01228e+06 2.01237e+06 5.00000e+00]\n",
            " [5.96200e+03 6.75000e+02 2.01593e+06 2.01602e+06 8.00000e+00]\n",
            " [6.66800e+03 2.00000e+03 2.01341e+06 2.01332e+06 5.00000e+00]\n",
            " [1.19340e+04 7.25000e+03 2.01219e+06 2.01228e+06 8.00000e+00]\n",
            " [1.96060e+04 7.50000e+03 2.01521e+06 2.01530e+06 6.00000e+00]]\n"
          ]
        }
      ],
      "source": [
        "#we're going to drop campaign length here and re-run.\n",
        "x = data.iloc[:,[0,1,4,5,7]].values\n",
        "x_train, x_test, y_train, y_test = train_test_split(x, y, test_size=0.2, random_state=50)\n",
        "print(x_train[:5])"
      ]
    },
    {
      "cell_type": "code",
      "execution_count": 135,
      "metadata": {
        "colab": {
          "base_uri": "https://localhost:8080/",
          "height": 0
        },
        "id": "9wiuHMwMV4Tj",
        "outputId": "b1e5a7a3-5c05-4603-fca2-c8cab468795c"
      },
      "outputs": [
        {
          "name": "stdout",
          "output_type": "stream",
          "text": [
            "<class 'numpy.ndarray'>\n"
          ]
        }
      ],
      "source": [
        "print(type(x_train))"
      ]
    },
    {
      "cell_type": "code",
      "execution_count": null,
      "metadata": {
        "id": "3RVugjY-dXdr"
      },
      "outputs": [],
      "source": [
        "rfecv.fit(x_train, y_train)\n",
        "\n",
        "print(f\"Optimal number of features : {rfecv.n_features_}\")"
      ]
    },
    {
      "cell_type": "code",
      "execution_count": 80,
      "metadata": {
        "colab": {
          "base_uri": "https://localhost:8080/",
          "height": 297
        },
        "id": "_rgmTAKs5Kas",
        "outputId": "4bb463d3-8ebb-44ba-b750-58a12e83c213"
      },
      "outputs": [
        {
          "data": {
            "image/png": "[encoded data removed]",
            "text/plain": [
              "<Figure size 432x288 with 1 Axes>"
            ]
          },
          "metadata": {
            "needs_background": "light",
            "tags": []
          },
          "output_type": "display_data"
        }
      ],
      "source": [
        "plt.figure()\n",
        "plt.xlabel(\"Number of features selected\")\n",
        "plt.ylabel(\"Cross validation score (# of correct classifications)\")\n",
        "plt.plot(range(1, len(rfecv.grid_scores_) + 1), rfecv.grid_scores_)\n",
        "plt.show()"
      ]
    },
    {
      "cell_type": "code",
      "execution_count": 83,
      "metadata": {
        "colab": {
          "base_uri": "https://localhost:8080/",
          "height": 0
        },
        "id": "2G8qwHOQ5KYG",
        "outputId": "7581f9fd-cbc6-4d4c-fd5a-2c9eea9b72ca"
      },
      "outputs": [
        {
          "name": "stdout",
          "output_type": "stream",
          "text": [
            "[ True  True  True  True  True]\n"
          ]
        },
        {
          "data": {
            "text/plain": [
              "['project_name', 'goal', 'launched', 'deadline', 'predicted_bert']"
            ]
          },
          "execution_count": 83,
          "metadata": {
            "tags": []
          },
          "output_type": "execute_result"
        }
      ],
      "source": [
        "print(rfecv.support_)\n",
        "b= list(data.columns)\n",
        "indexes=[0,1,4,5,7]\n",
        "[b[x] for x in indexes]\n"
      ]
    },
    {
      "cell_type": "code",
      "execution_count": 84,
      "metadata": {
        "colab": {
          "base_uri": "https://localhost:8080/",
          "height": 0
        },
        "id": "3hL0YM8n5KVH",
        "outputId": "a8281070-b79e-4c69-f5a6-84f9b87ed149"
      },
      "outputs": [
        {
          "data": {
            "text/plain": [
              "array([0.15695161, 0.12862427, 0.14242256, 0.14300298, 0.42899858])"
            ]
          },
          "execution_count": 84,
          "metadata": {
            "tags": []
          },
          "output_type": "execute_result"
        }
      ],
      "source": [
        "rfecv.estimator_.feature_importances_ "
      ]
    },
    {
      "cell_type": "markdown",
      "metadata": {
        "id": "09BYguUCHZRF"
      },
      "source": [
        "We can see that all columns contributed this time, although 'goal' again not by much and could possibly be elliminated. We'll keep it for now."
      ]
    },
    {
      "cell_type": "code",
      "execution_count": 130,
      "metadata": {
        "colab": {
          "base_uri": "https://localhost:8080/",
          "height": 0
        },
        "id": "0y7JjPgy7Z3P",
        "outputId": "897330d7-776e-4027-fa4a-3b06df9cefb9"
      },
      "outputs": [
        {
          "name": "stderr",
          "output_type": "stream",
          "text": [
            "[Parallel(n_jobs=1)]: Using backend SequentialBackend with 1 concurrent workers.\n",
            "[Parallel(n_jobs=1)]: Done 100 out of 100 | elapsed:    2.9s finished\n",
            "[Parallel(n_jobs=1)]: Using backend SequentialBackend with 1 concurrent workers.\n",
            "[Parallel(n_jobs=1)]: Done 100 out of 100 | elapsed:    0.1s finished\n"
          ]
        }
      ],
      "source": [
        "#now lets train our forest model on feature eliminated data.\n",
        "forest.fit(x_train,y_train)\n",
        "forest_predict = forest.predict(x_test)"
      ]
    },
    {
      "cell_type": "code",
      "execution_count": 132,
      "metadata": {
        "id": "ky32F8OEJFcv"
      },
      "outputs": [],
      "source": [
        "#saving our forest model.\n",
        "import pickle\n",
        "filename = '/content/drive/MyDrive/Colab Notebooks/forest_model.sav'\n",
        "pickle.dump(forest,open(filename,'wb'))"
      ]
    },
    {
      "cell_type": "code",
      "execution_count": 131,
      "metadata": {
        "colab": {
          "base_uri": "https://localhost:8080/",
          "height": 1341
        },
        "id": "9OJIjLbM7ZnK",
        "outputId": "481c528e-d0ac-4957-9c0b-49f9ea4b6acc"
      },
      "outputs": [
        {
          "name": "stderr",
          "output_type": "stream",
          "text": [
            "[Parallel(n_jobs=1)]: Using backend SequentialBackend with 1 concurrent workers.\n",
            "[Parallel(n_jobs=1)]: Done 100 out of 100 | elapsed:    0.1s finished\n"
          ]
        },
        {
          "data": {
            "image/png": "[encoded data removed]",
            "text/plain": [
              "<Figure size 864x864 with 2 Axes>"
            ]
          },
          "metadata": {
            "needs_background": "light",
            "tags": []
          },
          "output_type": "display_data"
        },
        {
          "name": "stdout",
          "output_type": "stream",
          "text": [
            "\n",
            "\n",
            "\n",
            "\n",
            "=== Classification Report ===\n",
            "              precision    recall  f1-score   support\n",
            "\n",
            "           0       0.60      0.50      0.54       282\n",
            "           1       0.70      0.50      0.58       108\n",
            "           2       0.56      0.35      0.43        99\n",
            "           3       0.65      0.48      0.55        27\n",
            "           4       0.61      0.54      0.57       280\n",
            "           5       0.76      0.77      0.76       252\n",
            "           6       0.59      0.76      0.67       731\n",
            "           7       0.81      0.86      0.83       271\n",
            "           8       0.72      0.77      0.75       348\n",
            "           9       0.12      0.05      0.07        44\n",
            "          10       0.82      0.83      0.82       561\n",
            "          11       0.60      0.40      0.48       123\n",
            "          12       0.61      0.60      0.61       442\n",
            "          13       0.70      0.70      0.70       312\n",
            "          14       0.71      0.53      0.60       120\n",
            "\n",
            "    accuracy                           0.68      4000\n",
            "   macro avg       0.64      0.58      0.60      4000\n",
            "weighted avg       0.67      0.68      0.67      4000\n",
            "\n",
            "{0: 'Art', 1: 'Comics', 2: 'Crafts', 3: 'Dance', 4: 'Design', 5: 'Fashion', 6: 'Film & Video', 7: 'Food', 8: 'Games', 9: 'Journalism', 10: 'Music', 11: 'Photography', 12: 'Publishing', 13: 'Technology', 14: 'Theater'}\n",
            "\n",
            "\n",
            "===Accuracy Score===\n",
            "0.67725\n",
            "\n",
            "\n"
          ]
        }
      ],
      "source": [
        "from sklearn.metrics import classification_report, confusion_matrix, accuracy_score, plot_confusion_matrix\n",
        "\n",
        "fig, ax = plt.subplots(figsize=(12, 12))\n",
        "plot_confusion_matrix(forest, x_test, y_test, display_labels=categories, xticks_rotation='vertical',cmap=plt.cm.Blues, ax=ax)\n",
        "ax.set_title('Confusion Matrix')\n",
        "plt.show()\n",
        "\n",
        "print('\\n')\n",
        "print('\\n')\n",
        "print(\"=== Classification Report ===\")\n",
        "print(classification_report(y_test, forest_predict))\n",
        "print(main_cats_dic)\n",
        "print('\\n')\n",
        "print(\"===Accuracy Score===\")\n",
        "print(accuracy_score(y_test,forest_predict))\n",
        "print('\\n')\n"
      ]
    },
    {
      "cell_type": "code",
      "execution_count": 126,
      "metadata": {
        "colab": {
          "base_uri": "https://localhost:8080/",
          "height": 1409
        },
        "id": "LDmiRm1bJDY-",
        "outputId": "cda8959e-56b8-4650-de17-b8a94ce3e725"
      },
      "outputs": [
        {
          "name": "stderr",
          "output_type": "stream",
          "text": [
            "[Parallel(n_jobs=1)]: Using backend SequentialBackend with 1 concurrent workers.\n",
            "[Parallel(n_jobs=1)]: Done 100 out of 100 | elapsed:    3.2s finished\n",
            "[Parallel(n_jobs=1)]: Using backend SequentialBackend with 1 concurrent workers.\n",
            "[Parallel(n_jobs=1)]: Done 100 out of 100 | elapsed:    0.1s finished\n",
            "[Parallel(n_jobs=1)]: Using backend SequentialBackend with 1 concurrent workers.\n",
            "[Parallel(n_jobs=1)]: Done 100 out of 100 | elapsed:    0.1s finished\n"
          ]
        },
        {
          "data": {
            "image/png": "[encoded data removed]",
            "text/plain": [
              "<Figure size 864x864 with 2 Axes>"
            ]
          },
          "metadata": {
            "needs_background": "light",
            "tags": []
          },
          "output_type": "display_data"
        },
        {
          "name": "stdout",
          "output_type": "stream",
          "text": [
            "\n",
            "\n",
            "\n",
            "\n",
            "=== Classification Report ===\n",
            "              precision    recall  f1-score   support\n",
            "\n",
            "           0       0.54      0.46      0.50       282\n",
            "           1       0.61      0.50      0.55       108\n",
            "           2       0.56      0.35      0.43        99\n",
            "           3       0.61      0.52      0.56        27\n",
            "           4       0.56      0.52      0.54       280\n",
            "           5       0.74      0.69      0.71       252\n",
            "           6       0.59      0.73      0.65       731\n",
            "           7       0.81      0.85      0.83       271\n",
            "           8       0.69      0.76      0.73       348\n",
            "           9       0.21      0.09      0.13        44\n",
            "          10       0.81      0.83      0.82       561\n",
            "          11       0.55      0.38      0.45       123\n",
            "          12       0.61      0.59      0.60       442\n",
            "          13       0.66      0.67      0.67       312\n",
            "          14       0.69      0.53      0.60       120\n",
            "\n",
            "    accuracy                           0.66      4000\n",
            "   macro avg       0.62      0.56      0.58      4000\n",
            "weighted avg       0.65      0.66      0.65      4000\n",
            "\n",
            "{0: 'Art', 1: 'Comics', 2: 'Crafts', 3: 'Dance', 4: 'Design', 5: 'Fashion', 6: 'Film & Video', 7: 'Food', 8: 'Games', 9: 'Journalism', 10: 'Music', 11: 'Photography', 12: 'Publishing', 13: 'Technology', 14: 'Theater'}\n",
            "\n",
            "\n",
            "===Accuracy Score===\n",
            "0.65775\n",
            "\n",
            "\n"
          ]
        }
      ],
      "source": [
        "#And one more time without goals.\n",
        "x = data.iloc[:,[0,4,5,7]].values\n",
        "x_train, x_test, y_train, y_test = train_test_split(x, y, test_size=0.2, random_state=50)\n",
        "forest.fit(x_train,y_train)\n",
        "forest_predict = forest.predict(x_test)\n",
        "\n",
        "fig, ax = plt.subplots(figsize=(12, 12))\n",
        "plot_confusion_matrix(forest, x_test, y_test, display_labels=categories, xticks_rotation='vertical',cmap=plt.cm.Blues, ax=ax)\n",
        "ax.set_title('Confusion Matrix')\n",
        "plt.show()\n",
        "\n",
        "print('\\n')\n",
        "print('\\n')\n",
        "print(\"=== Classification Report ===\")\n",
        "print(classification_report(y_test, forest_predict))\n",
        "print(main_cats_dic)\n",
        "print('\\n')\n",
        "print(\"===Accuracy Score===\")\n",
        "print(accuracy_score(y_test,forest_predict))\n",
        "print('\\n')"
      ]
    },
    {
      "cell_type": "markdown",
      "metadata": {
        "id": "JcFpud2ZJgs3"
      },
      "source": [
        "As we can see, RFE correctly predicted that goals was contirbuting a little bit, and the lower accuracy score upon its ellimination is proof of that."
      ]
    },
    {
      "cell_type": "markdown",
      "metadata": {
        "id": "KL_C16OtSKHd"
      },
      "source": [
        "The accuracy from BERT's prediction was ~64%. By including other feature's and RandomForest, we were able to gain only ~3.7%. With further optimazation of parameters or choosing a different supervised learning approach, I'm confident we can push this number up to the high 70s."
      ]
    },
    {
      "cell_type": "markdown",
      "metadata": {
        "id": "_wif-StOHj1b"
      },
      "source": [
        "# Prediction Function"
      ]
    },
    {
      "cell_type": "code",
      "execution_count": 169,
      "metadata": {
        "colab": {
          "base_uri": "https://localhost:8080/",
          "height": 123
        },
        "id": "HcoHTE3uBumg",
        "outputId": "cb839642-dcdb-4f02-984d-a2436ac9fe8f"
      },
      "outputs": [
        {
          "name": "stderr",
          "output_type": "stream",
          "text": [
            "/usr/local/lib/python3.7/dist-packages/numpy/core/_asarray.py:83: VisibleDeprecationWarning: Creating an ndarray from ragged nested sequences (which is a list-or-tuple of lists-or-tuples-or ndarrays with different lengths or shapes) is deprecated. If you meant to do this, you must specify 'dtype=object' when creating the ndarray\n",
            "  return array(a, dtype, copy=False, order=order)\n",
            "[Parallel(n_jobs=1)]: Using backend SequentialBackend with 1 concurrent workers.\n",
            "[Parallel(n_jobs=1)]: Done 100 out of 100 | elapsed:    0.0s finished\n"
          ]
        },
        {
          "data": {
            "application/vnd.google.colaboratory.intrinsic+json": {
              "type": "string"
            },
            "text/plain": [
              "'Fashion'"
            ]
          },
          "execution_count": 169,
          "metadata": {
            "tags": []
          },
          "output_type": "execute_result"
        }
      ],
      "source": [
        "import pickle\n",
        "import ktrain\n",
        "from sklearn import preprocessing\n",
        "import numpy as np\n",
        "import datetime\n",
        "\n",
        "predictor_reload = ktrain.load_predictor('/content/drive/MyDrive/Colab Notebooks/predictor')\n",
        "\n",
        "forest_model = pickle.load(open('/content/drive/MyDrive/Colab Notebooks/forest_model.sav', 'rb'))\n",
        "\n",
        "bert_key={'Art': 0, 'Comics': 1, 'Crafts': 2, 'Dance': 3, 'Design': 4, 'Fashion': 5, 'Film & Video': 6, 'Food': 7, 'Games': 8, 'Journalism': 9, 'Music': 10, 'Photography': 11, 'Publishing': 12, 'Technology': 13, 'Theater': 14}\n",
        "main_cat_keys={0: 'Art', 1: 'Comics', 2: 'Crafts', 3: 'Dance', 4: 'Design', 5: 'Fashion', 6: 'Film & Video', 7: 'Food', 8: 'Games', 9: 'Journalism', 10: 'Music', 11: 'Photography', 12: 'Publishing', 13: 'Technology', 14: 'Theater'}\n",
        "\n",
        "def date2num(date_time):\n",
        "  data_time=date_time.strftime(\"%d-%m-%Y\")\n",
        "  d, m, y = data_time.split('-')\n",
        "  num = int(d)*10 + int(m)*100 + int(y)*1000 \n",
        "  return num\n",
        "\n",
        "#Input date/time format as: '2018-06-29 08:15:27.243860'\n",
        "def predict_category(name,goal,launch_date,deadline_date):\n",
        "  goal = float(goal)\n",
        "  \n",
        "  launch_date = datetime.datetime.strptime(launch_date, '%Y-%m-%d %H:%M:%S.%f')\n",
        "  deadline_date = datetime.datetime.strptime(deadline_date, '%Y-%m-%d %H:%M:%S.%f')\n",
        "  camp_length = (deadline_date - launch_date).days\n",
        "\n",
        "  launch_date = date2num(launch_date)\n",
        "  deadline_date = date2num(deadline_date)\n",
        " \n",
        "  bert_predict = predictor_reload.predict(name)\n",
        "  bert_predict = bert_key[bert_predict]\n",
        "  \n",
        "  #Label Encoder is not supposed to be used with unseen data since it fits on a training set\n",
        "  #Taking values between 0 and n_classes-1 \n",
        "  #This is a problem I realized when I got to the end here. \n",
        "  #We will just feed in a value anyway although the output from this variable will be useless.\n",
        "  le = preprocessing.LabelEncoder()\n",
        "  name=le.fit_transform([name])\n",
        "\n",
        "\n",
        "  x=[name,goal,launch_date,deadline_date, bert_predict]\n",
        "  x=np.asarray(x)\n",
        "  x=x.reshape(1,-1)\n",
        "\n",
        "  prediction = forest.predict(x)\n",
        "  prediction = main_cat_keys[prediction[0]]\n",
        "\n",
        "  return prediction \n",
        "\n",
        "#EXAMPLE QUERY:\n",
        "predict_category('cool new fashion shorts',5070, '2018-06-29 08:15:27.243860', '2018-09-29 08:15:27.243860')\n",
        "\n"
      ]
    }
  ],
  "metadata": {
    "accelerator": "GPU",
    "colab": {
      "name": "flinks_challenge.ipynb",
      "provenance": []
    },
    "kernelspec": {
      "display_name": "Python 3",
      "name": "python3"
    },
    "language_info": {
      "name": "python"
    },
    "widgets": {
      "application/vnd.jupyter.widget-state+json": {
        "0429e8e3b9aa43f8b74ec4cac9e71377": {
          "model_module": "@jupyter-widgets/controls",
          "model_name": "FloatProgressModel",
          "state": {
            "_dom_classes": [],
            "_model_module": "@jupyter-widgets/controls",
            "_model_module_version": "1.5.0",
            "_model_name": "FloatProgressModel",
            "_view_count": null,
            "_view_module": "@jupyter-widgets/controls",
            "_view_module_version": "1.5.0",
            "_view_name": "ProgressView",
            "bar_style": "success",
            "description": "Downloading: 100%",
            "description_tooltip": null,
            "layout": "IPY_MODEL_d0008fca975d443393cf0c60d77f0458",
            "max": 231508,
            "min": 0,
            "orientation": "horizontal",
            "style": "IPY_MODEL_7bb4503599644f7e9f1540e32f435032",
            "value": 231508
          }
        },
        "0a4953ece8164f19a96663f43b4c3f65": {
          "model_module": "@jupyter-widgets/controls",
          "model_name": "HBoxModel",
          "state": {
            "_dom_classes": [],
            "_model_module": "@jupyter-widgets/controls",
            "_model_module_version": "1.5.0",
            "_model_name": "HBoxModel",
            "_view_count": null,
            "_view_module": "@jupyter-widgets/controls",
            "_view_module_version": "1.5.0",
            "_view_name": "HBoxView",
            "box_style": "",
            "children": [
              "IPY_MODEL_d85dcb7a7aee4524a36944de75ded444",
              "IPY_MODEL_6e4b3bf27b9d458aa254720eef1be66e"
            ],
            "layout": "IPY_MODEL_6c79bbdef68d4f2faf3a00a046d223a7"
          }
        },
        "0e1391ebab404dc4bd981904fbfabf9f": {
          "model_module": "@jupyter-widgets/base",
          "model_name": "LayoutModel",
          "state": {
            "_model_module": "@jupyter-widgets/base",
            "_model_module_version": "1.2.0",
            "_model_name": "LayoutModel",
            "_view_count": null,
            "_view_module": "@jupyter-widgets/base",
            "_view_module_version": "1.2.0",
            "_view_name": "LayoutView",
            "align_content": null,
            "align_items": null,
            "align_self": null,
            "border": null,
            "bottom": null,
            "display": null,
            "flex": null,
            "flex_flow": null,
            "grid_area": null,
            "grid_auto_columns": null,
            "grid_auto_flow": null,
            "grid_auto_rows": null,
            "grid_column": null,
            "grid_gap": null,
            "grid_row": null,
            "grid_template_areas": null,
            "grid_template_columns": null,
            "grid_template_rows": null,
            "height": null,
            "justify_content": null,
            "justify_items": null,
            "left": null,
            "margin": null,
            "max_height": null,
            "max_width": null,
            "min_height": null,
            "min_width": null,
            "object_fit": null,
            "object_position": null,
            "order": null,
            "overflow": null,
            "overflow_x": null,
            "overflow_y": null,
            "padding": null,
            "right": null,
            "top": null,
            "visibility": null,
            "width": null
          }
        },
        "176f85fec75340dc98c7c87ea71f5022": {
          "model_module": "@jupyter-widgets/base",
          "model_name": "LayoutModel",
          "state": {
            "_model_module": "@jupyter-widgets/base",
            "_model_module_version": "1.2.0",
            "_model_name": "LayoutModel",
            "_view_count": null,
            "_view_module": "@jupyter-widgets/base",
            "_view_module_version": "1.2.0",
            "_view_name": "LayoutView",
            "align_content": null,
            "align_items": null,
            "align_self": null,
            "border": null,
            "bottom": null,
            "display": null,
            "flex": null,
            "flex_flow": null,
            "grid_area": null,
            "grid_auto_columns": null,
            "grid_auto_flow": null,
            "grid_auto_rows": null,
            "grid_column": null,
            "grid_gap": null,
            "grid_row": null,
            "grid_template_areas": null,
            "grid_template_columns": null,
            "grid_template_rows": null,
            "height": null,
            "justify_content": null,
            "justify_items": null,
            "left": null,
            "margin": null,
            "max_height": null,
            "max_width": null,
            "min_height": null,
            "min_width": null,
            "object_fit": null,
            "object_position": null,
            "order": null,
            "overflow": null,
            "overflow_x": null,
            "overflow_y": null,
            "padding": null,
            "right": null,
            "top": null,
            "visibility": null,
            "width": null
          }
        },
        "444e02e1e87a470ea333cdf9477c05dc": {
          "model_module": "@jupyter-widgets/controls",
          "model_name": "HBoxModel",
          "state": {
            "_dom_classes": [],
            "_model_module": "@jupyter-widgets/controls",
            "_model_module_version": "1.5.0",
            "_model_name": "HBoxModel",
            "_view_count": null,
            "_view_module": "@jupyter-widgets/controls",
            "_view_module_version": "1.5.0",
            "_view_name": "HBoxView",
            "box_style": "",
            "children": [
              "IPY_MODEL_85a68a5d86aa4febb4e4dc494b227e4f",
              "IPY_MODEL_8890f9190453499aa3202052f5fa3906"
            ],
            "layout": "IPY_MODEL_176f85fec75340dc98c7c87ea71f5022"
          }
        },
        "498524325ace4c298f573a59745cb7fb": {
          "model_module": "@jupyter-widgets/controls",
          "model_name": "HTMLModel",
          "state": {
            "_dom_classes": [],
            "_model_module": "@jupyter-widgets/controls",
            "_model_module_version": "1.5.0",
            "_model_name": "HTMLModel",
            "_view_count": null,
            "_view_module": "@jupyter-widgets/controls",
            "_view_module_version": "1.5.0",
            "_view_name": "HTMLView",
            "description": "",
            "description_tooltip": null,
            "layout": "IPY_MODEL_cde88d3fae9f4027ae71b9f90a17dd56",
            "placeholder": "​",
            "style": "IPY_MODEL_5bd04ce44fb2481898b5074f105e785b",
            "value": " 232k/232k [00:01&lt;00:00, 192kB/s]"
          }
        },
        "4d5cf75542524ee0a5baef91cdee337b": {
          "model_module": "@jupyter-widgets/controls",
          "model_name": "ProgressStyleModel",
          "state": {
            "_model_module": "@jupyter-widgets/controls",
            "_model_module_version": "1.5.0",
            "_model_name": "ProgressStyleModel",
            "_view_count": null,
            "_view_module": "@jupyter-widgets/base",
            "_view_module_version": "1.2.0",
            "_view_name": "StyleView",
            "bar_color": null,
            "description_width": "initial"
          }
        },
        "5093462dda284a3183147e7564ff66ac": {
          "model_module": "@jupyter-widgets/base",
          "model_name": "LayoutModel",
          "state": {
            "_model_module": "@jupyter-widgets/base",
            "_model_module_version": "1.2.0",
            "_model_name": "LayoutModel",
            "_view_count": null,
            "_view_module": "@jupyter-widgets/base",
            "_view_module_version": "1.2.0",
            "_view_name": "LayoutView",
            "align_content": null,
            "align_items": null,
            "align_self": null,
            "border": null,
            "bottom": null,
            "display": null,
            "flex": null,
            "flex_flow": null,
            "grid_area": null,
            "grid_auto_columns": null,
            "grid_auto_flow": null,
            "grid_auto_rows": null,
            "grid_column": null,
            "grid_gap": null,
            "grid_row": null,
            "grid_template_areas": null,
            "grid_template_columns": null,
            "grid_template_rows": null,
            "height": null,
            "justify_content": null,
            "justify_items": null,
            "left": null,
            "margin": null,
            "max_height": null,
            "max_width": null,
            "min_height": null,
            "min_width": null,
            "object_fit": null,
            "object_position": null,
            "order": null,
            "overflow": null,
            "overflow_x": null,
            "overflow_y": null,
            "padding": null,
            "right": null,
            "top": null,
            "visibility": null,
            "width": null
          }
        },
        "52d4dd127e08482890fd827fdc7d2cd4": {
          "model_module": "@jupyter-widgets/controls",
          "model_name": "HBoxModel",
          "state": {
            "_dom_classes": [],
            "_model_module": "@jupyter-widgets/controls",
            "_model_module_version": "1.5.0",
            "_model_name": "HBoxModel",
            "_view_count": null,
            "_view_module": "@jupyter-widgets/controls",
            "_view_module_version": "1.5.0",
            "_view_name": "HBoxView",
            "box_style": "",
            "children": [
              "IPY_MODEL_0429e8e3b9aa43f8b74ec4cac9e71377",
              "IPY_MODEL_498524325ace4c298f573a59745cb7fb"
            ],
            "layout": "IPY_MODEL_5f509a6793974320ae4efc02e18e32d8"
          }
        },
        "5bd04ce44fb2481898b5074f105e785b": {
          "model_module": "@jupyter-widgets/controls",
          "model_name": "DescriptionStyleModel",
          "state": {
            "_model_module": "@jupyter-widgets/controls",
            "_model_module_version": "1.5.0",
            "_model_name": "DescriptionStyleModel",
            "_view_count": null,
            "_view_module": "@jupyter-widgets/base",
            "_view_module_version": "1.2.0",
            "_view_name": "StyleView",
            "description_width": ""
          }
        },
        "5f509a6793974320ae4efc02e18e32d8": {
          "model_module": "@jupyter-widgets/base",
          "model_name": "LayoutModel",
          "state": {
            "_model_module": "@jupyter-widgets/base",
            "_model_module_version": "1.2.0",
            "_model_name": "LayoutModel",
            "_view_count": null,
            "_view_module": "@jupyter-widgets/base",
            "_view_module_version": "1.2.0",
            "_view_name": "LayoutView",
            "align_content": null,
            "align_items": null,
            "align_self": null,
            "border": null,
            "bottom": null,
            "display": null,
            "flex": null,
            "flex_flow": null,
            "grid_area": null,
            "grid_auto_columns": null,
            "grid_auto_flow": null,
            "grid_auto_rows": null,
            "grid_column": null,
            "grid_gap": null,
            "grid_row": null,
            "grid_template_areas": null,
            "grid_template_columns": null,
            "grid_template_rows": null,
            "height": null,
            "justify_content": null,
            "justify_items": null,
            "left": null,
            "margin": null,
            "max_height": null,
            "max_width": null,
            "min_height": null,
            "min_width": null,
            "object_fit": null,
            "object_position": null,
            "order": null,
            "overflow": null,
            "overflow_x": null,
            "overflow_y": null,
            "padding": null,
            "right": null,
            "top": null,
            "visibility": null,
            "width": null
          }
        },
        "600ec5bc8dd647cfa1740dc85d4dd3ab": {
          "model_module": "@jupyter-widgets/controls",
          "model_name": "ProgressStyleModel",
          "state": {
            "_model_module": "@jupyter-widgets/controls",
            "_model_module_version": "1.5.0",
            "_model_name": "ProgressStyleModel",
            "_view_count": null,
            "_view_module": "@jupyter-widgets/base",
            "_view_module_version": "1.2.0",
            "_view_name": "StyleView",
            "bar_color": null,
            "description_width": "initial"
          }
        },
        "6c79bbdef68d4f2faf3a00a046d223a7": {
          "model_module": "@jupyter-widgets/base",
          "model_name": "LayoutModel",
          "state": {
            "_model_module": "@jupyter-widgets/base",
            "_model_module_version": "1.2.0",
            "_model_name": "LayoutModel",
            "_view_count": null,
            "_view_module": "@jupyter-widgets/base",
            "_view_module_version": "1.2.0",
            "_view_name": "LayoutView",
            "align_content": null,
            "align_items": null,
            "align_self": null,
            "border": null,
            "bottom": null,
            "display": null,
            "flex": null,
            "flex_flow": null,
            "grid_area": null,
            "grid_auto_columns": null,
            "grid_auto_flow": null,
            "grid_auto_rows": null,
            "grid_column": null,
            "grid_gap": null,
            "grid_row": null,
            "grid_template_areas": null,
            "grid_template_columns": null,
            "grid_template_rows": null,
            "height": null,
            "justify_content": null,
            "justify_items": null,
            "left": null,
            "margin": null,
            "max_height": null,
            "max_width": null,
            "min_height": null,
            "min_width": null,
            "object_fit": null,
            "object_position": null,
            "order": null,
            "overflow": null,
            "overflow_x": null,
            "overflow_y": null,
            "padding": null,
            "right": null,
            "top": null,
            "visibility": null,
            "width": null
          }
        },
        "6e4b3bf27b9d458aa254720eef1be66e": {
          "model_module": "@jupyter-widgets/controls",
          "model_name": "HTMLModel",
          "state": {
            "_dom_classes": [],
            "_model_module": "@jupyter-widgets/controls",
            "_model_module_version": "1.5.0",
            "_model_name": "HTMLModel",
            "_view_count": null,
            "_view_module": "@jupyter-widgets/controls",
            "_view_module_version": "1.5.0",
            "_view_name": "HTMLView",
            "description": "",
            "description_tooltip": null,
            "layout": "IPY_MODEL_0e1391ebab404dc4bd981904fbfabf9f",
            "placeholder": "​",
            "style": "IPY_MODEL_8b7b0e9d22d9459ca68dbfa643c48427",
            "value": " 363M/363M [00:13&lt;00:00, 26.7MB/s]"
          }
        },
        "7bb4503599644f7e9f1540e32f435032": {
          "model_module": "@jupyter-widgets/controls",
          "model_name": "ProgressStyleModel",
          "state": {
            "_model_module": "@jupyter-widgets/controls",
            "_model_module_version": "1.5.0",
            "_model_name": "ProgressStyleModel",
            "_view_count": null,
            "_view_module": "@jupyter-widgets/base",
            "_view_module_version": "1.2.0",
            "_view_name": "StyleView",
            "bar_color": null,
            "description_width": "initial"
          }
        },
        "85a68a5d86aa4febb4e4dc494b227e4f": {
          "model_module": "@jupyter-widgets/controls",
          "model_name": "FloatProgressModel",
          "state": {
            "_dom_classes": [],
            "_model_module": "@jupyter-widgets/controls",
            "_model_module_version": "1.5.0",
            "_model_name": "FloatProgressModel",
            "_view_count": null,
            "_view_module": "@jupyter-widgets/controls",
            "_view_module_version": "1.5.0",
            "_view_name": "ProgressView",
            "bar_style": "success",
            "description": "Downloading: 100%",
            "description_tooltip": null,
            "layout": "IPY_MODEL_5093462dda284a3183147e7564ff66ac",
            "max": 466062,
            "min": 0,
            "orientation": "horizontal",
            "style": "IPY_MODEL_4d5cf75542524ee0a5baef91cdee337b",
            "value": 466062
          }
        },
        "8890f9190453499aa3202052f5fa3906": {
          "model_module": "@jupyter-widgets/controls",
          "model_name": "HTMLModel",
          "state": {
            "_dom_classes": [],
            "_model_module": "@jupyter-widgets/controls",
            "_model_module_version": "1.5.0",
            "_model_name": "HTMLModel",
            "_view_count": null,
            "_view_module": "@jupyter-widgets/controls",
            "_view_module_version": "1.5.0",
            "_view_name": "HTMLView",
            "description": "",
            "description_tooltip": null,
            "layout": "IPY_MODEL_8913e959235945d3920a41b4d6c534ac",
            "placeholder": "​",
            "style": "IPY_MODEL_fc034f83179d4da4a737837ee7327a2f",
            "value": " 466k/466k [00:00&lt;00:00, 2.17MB/s]"
          }
        },
        "8913e959235945d3920a41b4d6c534ac": {
          "model_module": "@jupyter-widgets/base",
          "model_name": "LayoutModel",
          "state": {
            "_model_module": "@jupyter-widgets/base",
            "_model_module_version": "1.2.0",
            "_model_name": "LayoutModel",
            "_view_count": null,
            "_view_module": "@jupyter-widgets/base",
            "_view_module_version": "1.2.0",
            "_view_name": "LayoutView",
            "align_content": null,
            "align_items": null,
            "align_self": null,
            "border": null,
            "bottom": null,
            "display": null,
            "flex": null,
            "flex_flow": null,
            "grid_area": null,
            "grid_auto_columns": null,
            "grid_auto_flow": null,
            "grid_auto_rows": null,
            "grid_column": null,
            "grid_gap": null,
            "grid_row": null,
            "grid_template_areas": null,
            "grid_template_columns": null,
            "grid_template_rows": null,
            "height": null,
            "justify_content": null,
            "justify_items": null,
            "left": null,
            "margin": null,
            "max_height": null,
            "max_width": null,
            "min_height": null,
            "min_width": null,
            "object_fit": null,
            "object_position": null,
            "order": null,
            "overflow": null,
            "overflow_x": null,
            "overflow_y": null,
            "padding": null,
            "right": null,
            "top": null,
            "visibility": null,
            "width": null
          }
        },
        "8b7b0e9d22d9459ca68dbfa643c48427": {
          "model_module": "@jupyter-widgets/controls",
          "model_name": "DescriptionStyleModel",
          "state": {
            "_model_module": "@jupyter-widgets/controls",
            "_model_module_version": "1.5.0",
            "_model_name": "DescriptionStyleModel",
            "_view_count": null,
            "_view_module": "@jupyter-widgets/base",
            "_view_module_version": "1.2.0",
            "_view_name": "StyleView",
            "description_width": ""
          }
        },
        "cde88d3fae9f4027ae71b9f90a17dd56": {
          "model_module": "@jupyter-widgets/base",
          "model_name": "LayoutModel",
          "state": {
            "_model_module": "@jupyter-widgets/base",
            "_model_module_version": "1.2.0",
            "_model_name": "LayoutModel",
            "_view_count": null,
            "_view_module": "@jupyter-widgets/base",
            "_view_module_version": "1.2.0",
            "_view_name": "LayoutView",
            "align_content": null,
            "align_items": null,
            "align_self": null,
            "border": null,
            "bottom": null,
            "display": null,
            "flex": null,
            "flex_flow": null,
            "grid_area": null,
            "grid_auto_columns": null,
            "grid_auto_flow": null,
            "grid_auto_rows": null,
            "grid_column": null,
            "grid_gap": null,
            "grid_row": null,
            "grid_template_areas": null,
            "grid_template_columns": null,
            "grid_template_rows": null,
            "height": null,
            "justify_content": null,
            "justify_items": null,
            "left": null,
            "margin": null,
            "max_height": null,
            "max_width": null,
            "min_height": null,
            "min_width": null,
            "object_fit": null,
            "object_position": null,
            "order": null,
            "overflow": null,
            "overflow_x": null,
            "overflow_y": null,
            "padding": null,
            "right": null,
            "top": null,
            "visibility": null,
            "width": null
          }
        },
        "d0008fca975d443393cf0c60d77f0458": {
          "model_module": "@jupyter-widgets/base",
          "model_name": "LayoutModel",
          "state": {
            "_model_module": "@jupyter-widgets/base",
            "_model_module_version": "1.2.0",
            "_model_name": "LayoutModel",
            "_view_count": null,
            "_view_module": "@jupyter-widgets/base",
            "_view_module_version": "1.2.0",
            "_view_name": "LayoutView",
            "align_content": null,
            "align_items": null,
            "align_self": null,
            "border": null,
            "bottom": null,
            "display": null,
            "flex": null,
            "flex_flow": null,
            "grid_area": null,
            "grid_auto_columns": null,
            "grid_auto_flow": null,
            "grid_auto_rows": null,
            "grid_column": null,
            "grid_gap": null,
            "grid_row": null,
            "grid_template_areas": null,
            "grid_template_columns": null,
            "grid_template_rows": null,
            "height": null,
            "justify_content": null,
            "justify_items": null,
            "left": null,
            "margin": null,
            "max_height": null,
            "max_width": null,
            "min_height": null,
            "min_width": null,
            "object_fit": null,
            "object_position": null,
            "order": null,
            "overflow": null,
            "overflow_x": null,
            "overflow_y": null,
            "padding": null,
            "right": null,
            "top": null,
            "visibility": null,
            "width": null
          }
        },
        "d85dcb7a7aee4524a36944de75ded444": {
          "model_module": "@jupyter-widgets/controls",
          "model_name": "FloatProgressModel",
          "state": {
            "_dom_classes": [],
            "_model_module": "@jupyter-widgets/controls",
            "_model_module_version": "1.5.0",
            "_model_name": "FloatProgressModel",
            "_view_count": null,
            "_view_module": "@jupyter-widgets/controls",
            "_view_module_version": "1.5.0",
            "_view_name": "ProgressView",
            "bar_style": "success",
            "description": "Downloading: 100%",
            "description_tooltip": null,
            "layout": "IPY_MODEL_fc7245dd774548ef9c92b1eb07063399",
            "max": 363423424,
            "min": 0,
            "orientation": "horizontal",
            "style": "IPY_MODEL_600ec5bc8dd647cfa1740dc85d4dd3ab",
            "value": 363423424
          }
        },
        "fc034f83179d4da4a737837ee7327a2f": {
          "model_module": "@jupyter-widgets/controls",
          "model_name": "DescriptionStyleModel",
          "state": {
            "_model_module": "@jupyter-widgets/controls",
            "_model_module_version": "1.5.0",
            "_model_name": "DescriptionStyleModel",
            "_view_count": null,
            "_view_module": "@jupyter-widgets/base",
            "_view_module_version": "1.2.0",
            "_view_name": "StyleView",
            "description_width": ""
          }
        },
        "fc7245dd774548ef9c92b1eb07063399": {
          "model_module": "@jupyter-widgets/base",
          "model_name": "LayoutModel",
          "state": {
            "_model_module": "@jupyter-widgets/base",
            "_model_module_version": "1.2.0",
            "_model_name": "LayoutModel",
            "_view_count": null,
            "_view_module": "@jupyter-widgets/base",
            "_view_module_version": "1.2.0",
            "_view_name": "LayoutView",
            "align_content": null,
            "align_items": null,
            "align_self": null,
            "border": null,
            "bottom": null,
            "display": null,
            "flex": null,
            "flex_flow": null,
            "grid_area": null,
            "grid_auto_columns": null,
            "grid_auto_flow": null,
            "grid_auto_rows": null,
            "grid_column": null,
            "grid_gap": null,
            "grid_row": null,
            "grid_template_areas": null,
            "grid_template_columns": null,
            "grid_template_rows": null,
            "height": null,
            "justify_content": null,
            "justify_items": null,
            "left": null,
            "margin": null,
            "max_height": null,
            "max_width": null,
            "min_height": null,
            "min_width": null,
            "object_fit": null,
            "object_position": null,
            "order": null,
            "overflow": null,
            "overflow_x": null,
            "overflow_y": null,
            "padding": null,
            "right": null,
            "top": null,
            "visibility": null,
            "width": null
          }
        }
      }
    }
  },
  "nbformat": 4,
  "nbformat_minor": 0
}
